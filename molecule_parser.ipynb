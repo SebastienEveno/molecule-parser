{
 "metadata": {
  "language_info": {
   "codemirror_mode": {
    "name": "ipython",
    "version": 3
   },
   "file_extension": ".py",
   "mimetype": "text/x-python",
   "name": "python",
   "nbconvert_exporter": "python",
   "pygments_lexer": "ipython3",
   "version": "3.9.0-final"
  },
  "orig_nbformat": 2,
  "kernelspec": {
   "name": "python3",
   "display_name": "Python 3.9.0 64-bit",
   "metadata": {
    "interpreter": {
     "hash": "2740b07bebd5a9538dcad413d55b5f8f7bc0dae380b851836f69cf85491ff86f"
    }
   }
  }
 },
 "nbformat": 4,
 "nbformat_minor": 2,
 "cells": [
  {
   "source": [
    "# Chemical formula parser"
   ],
   "cell_type": "markdown",
   "metadata": {}
  },
  {
   "source": [
    "## Classes"
   ],
   "cell_type": "markdown",
   "metadata": {}
  },
  {
   "cell_type": "code",
   "execution_count": 19,
   "metadata": {},
   "outputs": [],
   "source": [
    "class Atom:\n",
    "    \"\"\"\n",
    "    A simple attempt to represent an atom.\n",
    "    Attributes\n",
    "    ----------\n",
    "    number : int, optional\n",
    "        The number of atoms. Default is equal to 1.\n",
    "    symbol : str\n",
    "        The chemical symbol of the atom.\n",
    "    \n",
    "    Methods\n",
    "    ----------\n",
    "    getSymbol():\n",
    "        Return the atom symbol.\n",
    "    getNumber():\n",
    "        Return the atom number.\n",
    "    \"\"\"\n",
    "    \n",
    "    def __init__(self, symbol: str = \"\", number: int = 1) -> None:\n",
    "        \"\"\"Initialize the atom's attributes.\"\"\"\n",
    "        self.symbol = symbol\n",
    "        self.number = number\n",
    "    \n",
    "    def getSymbol(self) -> str:\n",
    "        \"\"\"Return the atom symbol.\"\"\"\n",
    "        return self.symbol\n",
    "\n",
    "    def getNumber(self) -> int:\n",
    "        \"\"\"Return the atom number.\"\"\"\n",
    "        return self.number"
   ]
  },
  {
   "cell_type": "code",
   "execution_count": 20,
   "metadata": {},
   "outputs": [],
   "source": [
    "class Molecule:\n",
    "    \"\"\"\n",
    "    A simple attempt to represent a molecule.\n",
    "    Attributes\n",
    "    ----------\n",
    "    number : int, optional\n",
    "        The number of molecules. Default is equal to 1.\n",
    "    atoms : list, optional\n",
    "        list of atoms that make the molecule.\n",
    "    submolecules : list, optional\n",
    "        list of submolecules that make the molecule.\n",
    "    \n",
    "    Methods\n",
    "    ----------\n",
    "    addAtom(atom: Atom):\n",
    "        Add an Atom object to the molecule.\n",
    "    addSubmolecule(submolecule: Molecule):\n",
    "        Add a submolecule (of type Molecule) to the list of submolecules.\n",
    "    getAtoms():\n",
    "        Return the molecule atoms.\n",
    "    getAtomsAsDict():\n",
    "        Return a dictionary of the atoms that make the molecule.\n",
    "    \"\"\"\n",
    "\n",
    "    def __init__(self, number: int = 1, atoms: list = None, submolecules: list = None) -> None:\n",
    "        \"\"\"\n",
    "        Initialize the molecule's attributes.\n",
    "        \n",
    "        Parameters\n",
    "        ----------\n",
    "        number : int, optional\n",
    "            The number of molecules. Default is equal to 1.\n",
    "        atoms : list, optional\n",
    "            list of atoms that make the molecule.\n",
    "        submolecules : list, optional\n",
    "            list of submolecules that make the molecule.\n",
    "        \"\"\"\n",
    "        if atoms is not None:\n",
    "            self.atoms = atoms\n",
    "        else:\n",
    "            self.atoms = []\n",
    "        if submolecules is not None:\n",
    "            self.submolecules = submolecules\n",
    "        else:\n",
    "            self.submolecules = []\n",
    "        self.number = number\n",
    "    \n",
    "    def addAtom(self, atom: Atom) -> None:\n",
    "        \"\"\"\n",
    "        Add an Atom object to the molecule.\n",
    "        \n",
    "        Parameters\n",
    "        ----------\n",
    "        atom : Atom\n",
    "            The atom to be added to the attribute atoms\n",
    "        \"\"\"\n",
    "        self.atoms.append(atom)\n",
    "    \n",
    "    def addSubmolecule(self, submolecule) -> None:\n",
    "        \"\"\"\n",
    "        Add a submolecule (of type Molecule) to the list of submolecules.\n",
    "        \n",
    "        Parameters\n",
    "        ----------\n",
    "        submolecule : Molecule\n",
    "            The submolecule to be added to the attribute submolecules\n",
    "        \"\"\"\n",
    "        self.submolecules.append(submolecule)\n",
    "    \n",
    "    def getAtoms(self) -> list:\n",
    "        \"\"\"\n",
    "        Return the molecule attribute atoms.\n",
    "        \"\"\"\n",
    "        return self.atoms\n",
    "    \n",
    "    def getAtomsAsDict(self) -> dict:\n",
    "        \"\"\"\n",
    "        Return a dictionary of the atoms that make the molecule.\n",
    "        Keys : str\n",
    "            the atom symbols, e.g. 'H'.\n",
    "        Values : int\n",
    "            the corresponding atom number, e.g. 1.\n",
    "        \"\"\"\n",
    "        res = {}\n",
    "        for atom in self.atoms:\n",
    "            if atom.symbol in res:\n",
    "                res[atom.symbol] += self.number * atom.number\n",
    "            else:\n",
    "                res[atom.symbol] = self.number * atom.number\n",
    "        \n",
    "        for submolecule in self.submolecules:\n",
    "            for symbol, number in submolecule.getAtomsAsDict().items():\n",
    "                if symbol in res:\n",
    "                    res[symbol] += number * self.number\n",
    "                else:\n",
    "                    res[symbol] = number * self.number\n",
    "        return res"
   ]
  },
  {
   "source": [
    "## Parsing method"
   ],
   "cell_type": "markdown",
   "metadata": {}
  },
  {
   "cell_type": "code",
   "execution_count": 21,
   "metadata": {},
   "outputs": [],
   "source": [
    "import re\n",
    "\n",
    "# see https://docs.python.org/3/library/re.html\n",
    "\n",
    "# re.findall(pattern, string, flags=0)\n",
    "# Return all non-overlapping matches of pattern in string, as a list of strings. The string is scanned left-to-right, and matches are returned in the order found. If one or more groups are present in the pattern, return a list of groups; this will be a list of tuples if the pattern has more than one group. Empty matches are included in the result.\n",
    "\n",
    "## Patterns\n",
    "# [] \n",
    "# Used to indicate a set of characters. Ranges of characters can be indicated by giving two characters and separating them by a '-', for example [a-z] will match any lowercase ASCII letter\n",
    "\n",
    "# ? \n",
    "# Causes the resulting RE to match 0 or 1 repetitions of the preceding RE. ab? will match either 'a' or 'ab'.\n",
    "# So [A-Z][a-z]? will match either [A-Z] or [A-Z][a-z], e.g. F or Fe (not 'e' alone)\n",
    "\n",
    "# A|B\n",
    "# where A and B can be arbitrary REs, creates a regular expression that will match either A or B.\n",
    "\n",
    "# \\d\n",
    "# Matches any Unicode decimal digit (that is, any character in Unicode character category [Nd]). This includes [0-9], and also many other digit characters. If the ASCII flag is used only [0-9] is matched.\n",
    "\n",
    "# +\n",
    "# Causes the resulting RE to match 1 or more repetitions of the preceding RE. ab+ will match 'a' followed by any non-zero number of ‘b’s; it will not match just 'a'.\n",
    "\n",
    "# .\n",
    "# (Dot.) In the default mode, this matches any character except a newline."
   ]
  },
  {
   "cell_type": "code",
   "execution_count": 5,
   "metadata": {},
   "outputs": [
    {
     "output_type": "stream",
     "name": "stdout",
     "text": [
      "['F', 'O']\n['N', 'H', 'H', 'P', 'O']\n['M', 'C', 'H', 'N', 'N', 'L', 'O']\n"
     ]
    }
   ],
   "source": [
    "# We only match capital letters in the given string\n",
    "print(re.findall('[A-Z]', \"Fe2O3\"))\n",
    "print(re.findall('[A-Z]', \"(NH4)2HPO4\"))\n",
    "print(re.findall('[A-Z]', \"Mg2[CH4{NNi2(Li2O4)5}14]3\"))"
   ]
  },
  {
   "cell_type": "code",
   "execution_count": 8,
   "metadata": {},
   "outputs": [
    {
     "output_type": "stream",
     "name": "stdout",
     "text": [
      "['Fe']\n[]\n['Mg', 'Ni', 'Li']\n"
     ]
    }
   ],
   "source": [
    "# We only match groups of upper and lower case letters (2 consecutive letters only)\n",
    "print(re.findall('[A-Z][a-z]', \"Fe2O3\"))\n",
    "print(re.findall('[A-Z][a-z]', \"(NH4)2HPO4\"))\n",
    "print(re.findall('[A-Z][a-z]', \"Mg2[CH4{NNi2(Li2O4)5}14]3\"))"
   ]
  },
  {
   "cell_type": "code",
   "execution_count": 10,
   "metadata": {},
   "outputs": [
    {
     "output_type": "stream",
     "name": "stdout",
     "text": [
      "['Fe', 'O']\n['N', 'H', 'H', 'P', 'O']\n['Mg', 'C', 'H', 'N', 'Ni', 'Li', 'O']\n"
     ]
    }
   ],
   "source": [
    "# We only match upper letters or groups of upper and lower case letters (2 consecutive letters only)\n",
    "print(re.findall('[A-Z][a-z]?', \"Fe2O3\"))\n",
    "print(re.findall('[A-Z][a-z]?', \"(NH4)2HPO4\"))\n",
    "print(re.findall('[A-Z][a-z]?', \"Mg2[CH4{NNi2(Li2O4)5}14]3\"))"
   ]
  },
  {
   "cell_type": "code",
   "execution_count": 14,
   "metadata": {},
   "outputs": [
    {
     "output_type": "stream",
     "name": "stdout",
     "text": [
      "['1', '2', '3']\n['Fe', '2', 'O', '3']\n['N', 'H', '4', '2', 'H', 'P', 'O', '4']\n['Mg', '2', 'C', 'H', '4', 'N', 'Ni', '2', 'Li', '2', 'O', '4', '5', '1', '4', '3']\n"
     ]
    }
   ],
   "source": [
    "# We match upper letters or groups of upper and lower case letters (2 consecutive letters only)\n",
    "# or decimal digits (one by one)\n",
    "print(re.findall('\\d', \"123\"))\n",
    "print(re.findall('[A-Z][a-z]?|\\d', \"Fe2O3\"))\n",
    "print(re.findall('[A-Z][a-z]?|\\d', \"(NH4)2HPO4\"))\n",
    "print(re.findall('[A-Z][a-z]?|\\d', \"Mg2[CH4{NNi2(Li2O4)5}14]3\"))"
   ]
  },
  {
   "cell_type": "code",
   "execution_count": 15,
   "metadata": {},
   "outputs": [
    {
     "output_type": "stream",
     "name": "stdout",
     "text": [
      "['123']\n['Fe', '2', 'O', '3']\n['N', 'H', '4', '2', 'H', 'P', 'O', '4']\n['Mg', '2', 'C', 'H', '4', 'N', 'Ni', '2', 'Li', '2', 'O', '4', '5', '14', '3']\n"
     ]
    }
   ],
   "source": [
    "# We match upper letters or groups of upper and lower case letters (2 consecutive letters only)\n",
    "# or decimal digits\n",
    "print(re.findall('\\d+', \"123\"))\n",
    "print(re.findall('[A-Z][a-z]?|\\d+', \"Fe2O3\"))\n",
    "print(re.findall('[A-Z][a-z]?|\\d+', \"(NH4)2HPO4\"))\n",
    "print(re.findall('[A-Z][a-z]?|\\d+', \"Mg2[CH4{NNi2(Li2O4)5}14]3\"))"
   ]
  },
  {
   "cell_type": "code",
   "execution_count": 17,
   "metadata": {},
   "outputs": [
    {
     "output_type": "stream",
     "name": "stdout",
     "text": [
      "['Fe', '2', 'O', '3']\n['(', 'N', 'H', '4', ')', '2', 'H', 'P', 'O', '4']\n['Mg', '2', '[', 'C', 'H', '4', '{', 'N', 'Ni', '2', '(', 'Li', '2', 'O', '4', ')', '5', '}', '14', ']', '3']\n"
     ]
    }
   ],
   "source": [
    "# We match every character including brackets\n",
    "print(re.findall('[A-Z][a-z]?|\\d+|.', \"Fe2O3\"))\n",
    "print(re.findall('[A-Z][a-z]?|\\d+|.', \"(NH4)2HPO4\"))\n",
    "print(re.findall('[A-Z][a-z]?|\\d+|.', \"Mg2[CH4{NNi2(Li2O4)5}14]3\"))"
   ]
  },
  {
   "source": [
    "## V1: No brackets"
   ],
   "cell_type": "markdown",
   "metadata": {}
  },
  {
   "cell_type": "code",
   "execution_count": 47,
   "metadata": {},
   "outputs": [],
   "source": [
    "def parse_v1(molecule_str):\n",
    "    molecule_tokens = re.findall('[A-Z][a-z]?|\\d+|.', molecule_str)\n",
    "    isPreviousAnAlpha = False\n",
    "    \n",
    "    final_molecule = Molecule()\n",
    "\n",
    "    for ind, token in enumerate(molecule_tokens):\n",
    "\n",
    "        if token.isalpha():\n",
    "            if isPreviousAnAlpha:\n",
    "                final_molecule.addAtom(atom)\n",
    "            \n",
    "            atom = Atom(token)\n",
    "            isPreviousAnAlpha = True\n",
    "            # if we are at the end of the list, add atom\n",
    "            if ind == len(molecule_tokens) - 1:\n",
    "                final_molecule.addAtom(atom)\n",
    "\n",
    "        elif token.isdecimal():\n",
    "            c = int(token)\n",
    "            isPreviousAnAlpha = False\n",
    "            \n",
    "            # Number corresponds to atom\n",
    "            atom.number = c\n",
    "            final_molecule.addAtom(atom)\n",
    "    \n",
    "    return final_molecule.getAtomsAsDict()"
   ]
  },
  {
   "cell_type": "code",
   "execution_count": 48,
   "metadata": {},
   "outputs": [
    {
     "output_type": "stream",
     "name": "stdout",
     "text": [
      "{'Fe': 2, 'O': 3}\n{'C': 456, 'H': 78910}\n"
     ]
    }
   ],
   "source": [
    "print(parse_v1(\"Fe2O3\"))\n",
    "print(parse_v1(\"C456H78910\"))"
   ]
  },
  {
   "source": [
    "## V2: Linear brackets (no nested brackets)"
   ],
   "cell_type": "markdown",
   "metadata": {}
  },
  {
   "cell_type": "code",
   "execution_count": 129,
   "metadata": {},
   "outputs": [],
   "source": [
    "def parse_v2(molecule_str):\n",
    "    molecule_tokens = re.findall('[A-Z][a-z]?|\\d+|.', molecule_str)\n",
    "    isPreviousAnAlpha = False\n",
    "\n",
    "    #########################################################\n",
    "    isPreviousTokenAClosingParenthesis = False\n",
    "    isSubmolecule = False\n",
    "    #########################################################\n",
    "\n",
    "    final_molecule = Molecule()\n",
    "\n",
    "    for ind, token in enumerate(molecule_tokens):\n",
    "\n",
    "        if token.isalpha():\n",
    "            if isPreviousAnAlpha:\n",
    "                #########################################################\n",
    "                if isSubmolecule:\n",
    "                    # add case if submolecule => add atom in submolecule\n",
    "                    submolecule.addAtom(atom)\n",
    "                #########################################################\n",
    "                else:\n",
    "                    final_molecule.addAtom(atom)\n",
    "                \n",
    "                # isPreviousAnAlpha = False\n",
    "            \n",
    "            atom = Atom(token)\n",
    "            isPreviousAnAlpha = True\n",
    "\n",
    "            # if we are at the end of the list, add atom\n",
    "            if ind == len(molecule_tokens) - 1:\n",
    "                final_molecule.addAtom(atom)\n",
    "\n",
    "        elif token.isdecimal():\n",
    "            c = int(token)\n",
    "            isPreviousAnAlpha = False\n",
    "\n",
    "            #########################################################\n",
    "            if isPreviousTokenAClosingParenthesis:\n",
    "                # Number corresponds to submolecule\n",
    "                submolecule.number = c\n",
    "                # at this point, we can add this submolecule to the final_molecule\n",
    "                final_molecule.addSubmolecule(submolecule)\n",
    "                isPreviousTokenAClosingParenthesis = False\n",
    "                isSubmolecule = False\n",
    "            else:\n",
    "                # Number corresponds to atom\n",
    "                atom.number = c\n",
    "                if isSubmolecule:\n",
    "                    submolecule.addAtom(atom)\n",
    "                else:\n",
    "                    final_molecule.addAtom(atom)\n",
    "            #########################################################\n",
    "\n",
    "        #########################################################\n",
    "        elif token in \"([{\":\n",
    "           \n",
    "            if isPreviousAnAlpha:\n",
    "                if isSubmolecule:\n",
    "                    submolecule.addAtom(atom)\n",
    "                else:\n",
    "                    final_molecule.addAtom(atom)\n",
    "                isPreviousAnAlpha = False\n",
    "            \n",
    "            # create submolecule\n",
    "            submolecule = Molecule()\n",
    "            isSubmolecule = True\n",
    "\n",
    "        elif token in \")]}\":\n",
    "            if isPreviousAnAlpha:\n",
    "                if isSubmolecule:\n",
    "                    submolecule.addAtom(atom)\n",
    "                else:\n",
    "                    final_molecule.addAtom(atom)\n",
    "                isPreviousAnAlpha = False\n",
    "            \n",
    "            isPreviousTokenAClosingParenthesis = True\n",
    "        #########################################################\n",
    "    ########################################################\n",
    "    # DEBUG\n",
    "    ########################################################\n",
    "    print(\"\\n### FINAL MOLECULE ###\")\n",
    "\n",
    "    print(\"-input\")\n",
    "    print(\"\\t{}\".format(molecule_str))\n",
    "\n",
    "    \n",
    "\n",
    "    print(\"\\n-Final molecule info\")\n",
    "    print(\"\\tfinal_molecule.number: {}\".format(final_molecule.number))\n",
    "\n",
    "    for i, elt in enumerate(final_molecule.getAtoms()):\n",
    "        print(\"\\tAtom #{}\\t{}: {}\".format(str(i+1), elt.getSymbol(), elt.getNumber()))\n",
    "    \n",
    "\n",
    "    print(\"\\t-Submolecules info\")\n",
    "    for i, elt in enumerate(final_molecule.submolecules):\n",
    "        print(\"\\t\\tSubmolecule.number: {}\".format(elt.number))\n",
    "        for j, atom in enumerate(elt.getAtoms()):\n",
    "            print(\"\\t\\tAtom #{}\\t{}: {}\".format(str(j+1), atom.getSymbol(), atom.getNumber()))\n",
    "        print(\"\\t\\tSubmolecule #{}: {}\".format(str(i+1), elt.getAtomsAsDict()))\n",
    "        \n",
    "    \n",
    "    print(\"\\nfinal_molecule: {}\".format(final_molecule.getAtomsAsDict()))\n",
    "    print(\"###\\n\")\n",
    "    ########################################################\n",
    "\n",
    "    return final_molecule.getAtomsAsDict()"
   ]
  },
  {
   "cell_type": "code",
   "execution_count": 130,
   "metadata": {},
   "outputs": [
    {
     "output_type": "stream",
     "name": "stdout",
     "text": [
      "\n### FINAL MOLECULE ###\n-input\n\tAl2(SO4)3\n\n-Final molecule info\n\tfinal_molecule.number: 1\n\tAtom #1\tAl: 2\n\t-Submolecules info\n\t\tSubmolecule.number: 3\n\t\tAtom #1\tS: 1\n\t\tAtom #2\tO: 4\n\t\tSubmolecule #1: {'S': 3, 'O': 12}\n\nfinal_molecule: {'Al': 2, 'S': 3, 'O': 12}\n###\n\n{'Al': 2, 'S': 3, 'O': 12}\n"
     ]
    }
   ],
   "source": [
    "print(parse_v2(\"Al2(SO4)3\"))\n",
    "# print(parse_v2(\"(H2O)3\"))"
   ]
  },
  {
   "source": [
    "## V3: Nested brackets"
   ],
   "cell_type": "markdown",
   "metadata": {}
  },
  {
   "cell_type": "code",
   "execution_count": 163,
   "metadata": {},
   "outputs": [],
   "source": [
    "def parse_v3(molecule_str):\n",
    "    molecule_tokens = re.findall('[A-Z][a-z]?|\\d+|.', molecule_str)\n",
    "    isPreviousAnAlpha = False\n",
    "    isPreviousTokenAClosingParenthesis = False\n",
    "\n",
    "    #########################################################\n",
    "    # for nested submolecules\n",
    "    list_submolecules = []\n",
    "    #########################################################\n",
    "\n",
    "    final_molecule = Molecule()\n",
    "\n",
    "    for ind, token in enumerate(molecule_tokens):\n",
    "    \n",
    "        if token.isalpha():\n",
    "            if isPreviousAnAlpha:\n",
    "                if list_submolecules:\n",
    "                    list_submolecules[-1].addAtom(atom)\n",
    "                else:\n",
    "                    final_molecule.addAtom(atom)\n",
    "                isPreviousAnAlpha = False\n",
    "            \n",
    "            atom = Atom(token)\n",
    "            isPreviousAnAlpha = True\n",
    "\n",
    "            # if we are at the end of the list, add atom\n",
    "            if ind == len(molecule_tokens) - 1:\n",
    "                final_molecule.addAtom(atom)\n",
    "\n",
    "        elif token.isdecimal():\n",
    "            c = int(token)\n",
    "            isPreviousAnAlpha = False\n",
    "            if isPreviousTokenAClosingParenthesis:\n",
    "                #########################################################\n",
    "                # Number corresponds to the last submolecule in list_submolecules\n",
    "                # Here len(list_submolecules) >= 1\n",
    "                list_submolecules[-1].number = c\n",
    "                # at this point, we can add this submolecule to the upper submolecule\n",
    "                # or add it to final_molecule if len(list_submolecules) == 1\n",
    "                if len(list_submolecules) == 1:\n",
    "                    final_molecule.addSubmolecule(list_submolecules[-1])\n",
    "                else:\n",
    "                    # add the submolecule to the upper submolecule\n",
    "                    list_submolecules[-2].addSubmolecule(list_submolecules[-1])\n",
    "                    \n",
    "                # remove the last submolecule from the list\n",
    "                list_submolecules = list_submolecules[:-1]\n",
    "                #########################################################\n",
    "\n",
    "                isPreviousTokenAClosingParenthesis = False\n",
    "            else:\n",
    "                #########################################################\n",
    "                # Number corresponds to atom\n",
    "                atom.number = c\n",
    "                if list_submolecules:\n",
    "                    list_submolecules[-1].addAtom(atom)\n",
    "                else:\n",
    "                    final_molecule.addAtom(atom)\n",
    "                #########################################################\n",
    "\n",
    "        elif token in \"([{\":\n",
    "            if isPreviousAnAlpha:\n",
    "                if list_submolecules:\n",
    "                    list_submolecules[-1].addAtom(atom)\n",
    "                else:\n",
    "                    final_molecule.addAtom(atom)\n",
    "                isPreviousAnAlpha = False\n",
    "            \n",
    "            #########################################################\n",
    "            # add new submolecule to list_submolecules\n",
    "            list_submolecules.append(Molecule())\n",
    "            #########################################################\n",
    "\n",
    "        elif token in \")]}\":\n",
    "            if isPreviousAnAlpha:\n",
    "                if list_submolecules:\n",
    "                    list_submolecules[-1].addAtom(atom)\n",
    "                else:\n",
    "                    final_molecule.addAtom(atom)\n",
    "                isPreviousAnAlpha = False\n",
    "\n",
    "            isPreviousTokenAClosingParenthesis = True\n",
    "        \n",
    "        # DEBUG\n",
    "        print(\"Token: {}\".format(token))\n",
    "        if list_submolecules:\n",
    "            for i, elt in enumerate(list_submolecules):\n",
    "                print(\"Submolecule #{}: {}\".format(i+1, elt.getAtomsAsDict()))\n",
    "                \n",
    "    ########################################################\n",
    "    # DEBUG\n",
    "    ########################################################\n",
    "    print(\"\\n### FINAL MOLECULE ###\")\n",
    "\n",
    "    print(\"-input\")\n",
    "    print(\"\\t{}\".format(molecule_str))\n",
    "\n",
    "    print(\"\\n-Final molecule info\")\n",
    "    print(\"\\tfinal_molecule.number: {}\".format(final_molecule.number))\n",
    "\n",
    "    for i, elt in enumerate(final_molecule.getAtoms()):\n",
    "        print(\"\\tAtom #{}\\t{}: {}\".format(str(i+1), elt.getSymbol(), elt.getNumber()))\n",
    "    \n",
    "\n",
    "    print(\"\\t-Submolecules info\")\n",
    "    for i, elt in enumerate(final_molecule.submolecules):\n",
    "        print(\"\\t\\tSubmolecule.number: {}\".format(elt.number))\n",
    "        for j, atom in enumerate(elt.getAtoms()):\n",
    "            print(\"\\t\\tAtom #{}\\t{}: {}\".format(str(j+1), atom.getSymbol(), atom.getNumber()))\n",
    "        print(\"\\t\\tSubmolecule #{}: {}\".format(str(i+1), elt.getAtomsAsDict()))\n",
    "        \n",
    "    \n",
    "    print(\"\\nfinal_molecule: {}\".format(final_molecule.getAtomsAsDict()))\n",
    "    print(\"###\\n\")\n",
    "    ########################################################\n",
    "    \n",
    "    return final_molecule.getAtomsAsDict()"
   ]
  },
  {
   "cell_type": "code",
   "execution_count": 164,
   "metadata": {},
   "outputs": [
    {
     "output_type": "stream",
     "name": "stdout",
     "text": [
      "Token: Mg\nToken: 2\nToken: [\nSubmolecule #1: {}\nToken: C\nSubmolecule #1: {}\nToken: H\nSubmolecule #1: {'C': 1}\nToken: 4\nSubmolecule #1: {'C': 1, 'H': 4}\nToken: {\nSubmolecule #1: {'C': 1, 'H': 4}\nSubmolecule #2: {}\nToken: N\nSubmolecule #1: {'C': 1, 'H': 4}\nSubmolecule #2: {}\nToken: Ni\nSubmolecule #1: {'C': 1, 'H': 4}\nSubmolecule #2: {'N': 1}\nToken: 2\nSubmolecule #1: {'C': 1, 'H': 4}\nSubmolecule #2: {'N': 1, 'Ni': 2}\nToken: (\nSubmolecule #1: {'C': 1, 'H': 4}\nSubmolecule #2: {'N': 1, 'Ni': 2}\nSubmolecule #3: {}\nToken: Li\nSubmolecule #1: {'C': 1, 'H': 4}\nSubmolecule #2: {'N': 1, 'Ni': 2}\nSubmolecule #3: {}\nToken: 2\nSubmolecule #1: {'C': 1, 'H': 4}\nSubmolecule #2: {'N': 1, 'Ni': 2}\nSubmolecule #3: {'Li': 2}\nToken: O\nSubmolecule #1: {'C': 1, 'H': 4}\nSubmolecule #2: {'N': 1, 'Ni': 2}\nSubmolecule #3: {'Li': 2}\nToken: 4\nSubmolecule #1: {'C': 1, 'H': 4}\nSubmolecule #2: {'N': 1, 'Ni': 2}\nSubmolecule #3: {'Li': 2, 'O': 4}\nToken: )\nSubmolecule #1: {'C': 1, 'H': 4}\nSubmolecule #2: {'N': 1, 'Ni': 2}\nSubmolecule #3: {'Li': 2, 'O': 4}\nToken: 5\nSubmolecule #1: {'C': 1, 'H': 4}\nSubmolecule #2: {'N': 1, 'Ni': 2, 'Li': 10, 'O': 20}\nToken: }\nSubmolecule #1: {'C': 1, 'H': 4}\nSubmolecule #2: {'N': 1, 'Ni': 2, 'Li': 10, 'O': 20}\nToken: 14\nSubmolecule #1: {'C': 1, 'H': 4, 'N': 14, 'Ni': 28, 'Li': 140, 'O': 280}\nToken: ]\nSubmolecule #1: {'C': 1, 'H': 4, 'N': 14, 'Ni': 28, 'Li': 140, 'O': 280}\nToken: 3\n\n### FINAL MOLECULE ###\n-input\n\tMg2[CH4{NNi2(Li2O4)5}14]3\n\n-Final molecule info\n\tfinal_molecule.number: 1\n\tAtom #1\tMg: 2\n\t-Submolecules info\n\t\tSubmolecule.number: 3\n\t\tAtom #1\tC: 1\n\t\tAtom #2\tH: 4\n\t\tSubmolecule #1: {'C': 3, 'H': 12, 'N': 42, 'Ni': 84, 'Li': 420, 'O': 840}\n\nfinal_molecule: {'Mg': 2, 'C': 3, 'H': 12, 'N': 42, 'Ni': 84, 'Li': 420, 'O': 840}\n###\n\n{'Mg': 2, 'C': 3, 'H': 12, 'N': 42, 'Ni': 84, 'Li': 420, 'O': 840}\n"
     ]
    }
   ],
   "source": [
    "print(parse_v3(\"Mg2[CH4{NNi2(Li2O4)5}14]3\"))"
   ]
  },
  {
   "source": [
    "## V4: useless brackets & number in front of formula"
   ],
   "cell_type": "markdown",
   "metadata": {}
  },
  {
   "cell_type": "code",
   "execution_count": 166,
   "metadata": {},
   "outputs": [],
   "source": [
    "def parse_v4(molecule_str):\n",
    "    molecule_tokens = re.findall('[A-Z][a-z]?|\\d+|.', molecule_str)\n",
    "    isPreviousAnAlpha = False\n",
    "    isPreviousTokenAClosingParenthesis = False\n",
    "    list_submolecules = []\n",
    "    final_molecule = Molecule()\n",
    "\n",
    "    for ind, token in enumerate(molecule_tokens):\n",
    "        \n",
    "        if token.isalpha():\n",
    "            if isPreviousAnAlpha:\n",
    "                if list_submolecules:\n",
    "                    list_submolecules[-1].addAtom(atom)\n",
    "                else:\n",
    "                    final_molecule.addAtom(atom)\n",
    "                isPreviousAnAlpha = False\n",
    "            \n",
    "            if isPreviousTokenAClosingParenthesis:\n",
    "                if len(list_submolecules) == 1:\n",
    "                    final_molecule.addSubmolecule(list_submolecules[-1])\n",
    "                else:\n",
    "                    # add the lowest submolecule to the upper one\n",
    "                    list_submolecules[-2].addSubmolecule(list_submolecules[-1])\n",
    "                \n",
    "                # remove the lowest submolecule from the list\n",
    "                list_submolecules = list_submolecules[:-1]\n",
    "\n",
    "                isPreviousTokenAClosingParenthesis = False\n",
    "            \n",
    "            atom = Atom(token)\n",
    "            isPreviousAnAlpha = True\n",
    "\n",
    "            # if we are at the end of the list, add atom\n",
    "            if ind == len(molecule_tokens) - 1:\n",
    "                final_molecule.addAtom(atom)\n",
    "\n",
    "        elif token.isdecimal():\n",
    "            c = int(token)\n",
    "            isPreviousAnAlpha = False\n",
    "            \n",
    "            #########################################################\n",
    "            # Case first token is number. Example: \"3(H20)\"\n",
    "            if ind == 0:\n",
    "                final_molecule.number = c\n",
    "            #########################################################\n",
    "            \n",
    "            elif isPreviousTokenAClosingParenthesis:\n",
    "                # Number corresponds to the lowest submolecule\n",
    "                # Here len(list_submolecules) >= 1\n",
    "                list_submolecules[-1].number = c\n",
    "                # at this point, we can add this submolecule to the upper one,\n",
    "                # or add it to final_molecule if len(list_submolecules) == 1\n",
    "                if len(list_submolecules) == 1:\n",
    "                    final_molecule.addSubmolecule(list_submolecules[-1])\n",
    "                else:\n",
    "                    # add the lowest submolecule to the upper one\n",
    "                    list_submolecules[-2].addSubmolecule(list_submolecules[-1])\n",
    "                \n",
    "                # remove the lowest submolecule from the list\n",
    "                list_submolecules = list_submolecules[:-1]\n",
    "\n",
    "                isPreviousTokenAClosingParenthesis = False\n",
    "            else:\n",
    "                # Number corresponds to atom\n",
    "                atom.number = c\n",
    "                if list_submolecules:\n",
    "                    list_submolecules[-1].addAtom(atom)\n",
    "                else:\n",
    "                    final_molecule.addAtom(atom)\n",
    "\n",
    "        elif token in \"([{\":\n",
    "            if isPreviousAnAlpha:\n",
    "                if list_submolecules:\n",
    "                    list_submolecules[-1].addAtom(atom)\n",
    "                else:\n",
    "                    final_molecule.addAtom(atom)\n",
    "                isPreviousAnAlpha = False\n",
    "            \n",
    "            #########################################################\n",
    "            # case previous token in \")]}\", i.e. in closing brackets\n",
    "            if isPreviousTokenAClosingParenthesis:\n",
    "                if len(list_submolecules) == 1 or ind == len(molecule_tokens) - 1:\n",
    "                    final_molecule.addSubmolecule(list_submolecules[-1])\n",
    "                else:\n",
    "                    # add the submolecule to the upper submolecule\n",
    "                    list_submolecules[-2].addSubmolecule(list_submolecules[-1])\n",
    "                \n",
    "                # remove the lowest submolecule from the list\n",
    "                list_submolecules = list_submolecules[:-1]\n",
    "\n",
    "                isPreviousTokenAClosingParenthesis = False\n",
    "            #########################################################\n",
    "\n",
    "            # add new submolecule to list_submolecules\n",
    "            list_submolecules.append(Molecule())\n",
    "\n",
    "        elif token in \")]}\":\n",
    "            if isPreviousAnAlpha:\n",
    "                if list_submolecules:\n",
    "                    list_submolecules[-1].addAtom(atom)\n",
    "                else:\n",
    "                    final_molecule.addAtom(atom)\n",
    "                isPreviousAnAlpha = False\n",
    "            \n",
    "            #########################################################\n",
    "            # case no decimal after (previous) closing bracket\n",
    "            if isPreviousTokenAClosingParenthesis:\n",
    "                if len(list_submolecules) == 1 or ind == len(molecule_tokens) - 1:\n",
    "                    final_molecule.addSubmolecule(list_submolecules[-1])\n",
    "                else:\n",
    "                    # add the submolecule to the upper submolecule\n",
    "                    list_submolecules[-2].addSubmolecule(list_submolecules[-1])\n",
    "                \n",
    "                # remove the lowest submolecule from the list\n",
    "                list_submolecules = list_submolecules[:-1]\n",
    "            \n",
    "            # case this closing bracket is the last element of the string\n",
    "            elif ind == len(molecule_tokens) - 1:\n",
    "                final_molecule.addSubmolecule(list_submolecules[-1])\n",
    "            #########################################################\n",
    "            \n",
    "            isPreviousTokenAClosingParenthesis = True\n",
    "\n",
    "    return final_molecule.getAtomsAsDict()"
   ]
  },
  {
   "cell_type": "code",
   "execution_count": 167,
   "metadata": {},
   "outputs": [
    {
     "output_type": "stream",
     "name": "stdout",
     "text": [
      "{'Fe': 3}\n{'Fe': 24}\n{'Fe': 24}\n{'Fe': 24}\n{'H': 6, 'O': 3}\n{'H': 2, 'O': 1}\n{'O': 24}\n{'Fe': 3}\n{'C': 1, 'H': 4, 'O': 1}\n"
     ]
    }
   ],
   "source": [
    "print(parse_v4(\"{((Fe3))}\"))\n",
    "print(parse_v4(\"((Fe3))8\"))\n",
    "print(parse_v4(\"8(Fe3)\"))\n",
    "print(parse_v4(\"8((Fe3))\"))\n",
    "print(parse_v4(\"3(H2O)\"))\n",
    "print(parse_v4(\"()H2O\"))\n",
    "print(parse_v4(\"4((O2)3)\"))\n",
    "print(parse_v4(\"((Fe3))\"))\n",
    "print(parse_v4(\"CH4(O)\"))"
   ]
  },
  {
   "source": [
    "## parser.py"
   ],
   "cell_type": "markdown",
   "metadata": {}
  },
  {
   "cell_type": "code",
   "execution_count": 172,
   "metadata": {},
   "outputs": [],
   "source": [
    "# https://stackoverflow.com/questions/1450393/how-do-you-read-from-stdin\n",
    "# readlines(): split the content by newline automatically \n",
    "# rstrip(): Remove any white spaces at the end of the string\n",
    "# map(fun, iterable): Returns a list of the results after applying the given function to each item of a given iterable (list, tuple etc.)"
   ]
  },
  {
   "cell_type": "code",
   "execution_count": null,
   "metadata": {},
   "outputs": [],
   "source": [
    "# json\n",
    "# https://docs.python.org/3/library/json.html\n",
    "# json.dumps(): Serialize obj as a JSON formatted stream\n",
    "## If sort_keys is true (default: False), then the output of dictionaries will be sorted by key.\n",
    "## If indent is a non-negative integer or string, then JSON array elements and object members will be pretty-printed with that indent level."
   ]
  }
 ]
}